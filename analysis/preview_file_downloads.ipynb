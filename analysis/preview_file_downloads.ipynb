{
 "cells": [
  {
   "cell_type": "code",
   "execution_count": 2,
   "metadata": {},
   "outputs": [],
   "source": [
    "import argparse\n",
    "import os\n",
    "import pandas as pd\n",
    "import requests\n",
    "import shutil\n",
    "from tqdm.auto import tqdm\n",
    "import wget\n",
    "\n",
    "data = '/Volumes/Parler/data/ddosecrets-parler-images-listing.csv'\n",
    "output_dir = '/Volumes/Parler/downloads/images/'\n",
    "\n",
    "base_url = 'https://s3.wasabisys.com/ddosecrets-parler-images/'"
   ]
  },
  {
   "cell_type": "code",
   "execution_count": 3,
   "metadata": {},
   "outputs": [],
   "source": [
    "# Get list of images\n",
    "\n",
    "df = pd.read_csv(data, header=0, names=['date', 'time', 'size', 'filename'], on_bad_lines='skip')"
   ]
  },
  {
   "cell_type": "code",
   "execution_count": 4,
   "metadata": {},
   "outputs": [
    {
     "data": {
      "text/html": [
       "<div>\n",
       "<style scoped>\n",
       "    .dataframe tbody tr th:only-of-type {\n",
       "        vertical-align: middle;\n",
       "    }\n",
       "\n",
       "    .dataframe tbody tr th {\n",
       "        vertical-align: top;\n",
       "    }\n",
       "\n",
       "    .dataframe thead th {\n",
       "        text-align: right;\n",
       "    }\n",
       "</style>\n",
       "<table border=\"1\" class=\"dataframe\">\n",
       "  <thead>\n",
       "    <tr style=\"text-align: right;\">\n",
       "      <th></th>\n",
       "      <th>date</th>\n",
       "      <th>time</th>\n",
       "      <th>size</th>\n",
       "      <th>filename</th>\n",
       "    </tr>\n",
       "  </thead>\n",
       "  <tbody>\n",
       "    <tr>\n",
       "      <th>0</th>\n",
       "      <td>2021-01-17</td>\n",
       "      <td>11:35:19</td>\n",
       "      <td>1527282</td>\n",
       "      <td>0001bzcCwH.png</td>\n",
       "    </tr>\n",
       "    <tr>\n",
       "      <th>1</th>\n",
       "      <td>2021-01-17</td>\n",
       "      <td>11:35:19</td>\n",
       "      <td>550792</td>\n",
       "      <td>00049AFFY3.jpeg</td>\n",
       "    </tr>\n",
       "    <tr>\n",
       "      <th>2</th>\n",
       "      <td>2021-01-17</td>\n",
       "      <td>11:35:19</td>\n",
       "      <td>429993</td>\n",
       "      <td>0004DsKCnI.jpeg</td>\n",
       "    </tr>\n",
       "    <tr>\n",
       "      <th>3</th>\n",
       "      <td>2021-01-17</td>\n",
       "      <td>11:35:19</td>\n",
       "      <td>238120</td>\n",
       "      <td>0005i6v6Wv.jpeg</td>\n",
       "    </tr>\n",
       "    <tr>\n",
       "      <th>4</th>\n",
       "      <td>2021-01-17</td>\n",
       "      <td>11:35:19</td>\n",
       "      <td>31940</td>\n",
       "      <td>0008cVDtNk.jpeg</td>\n",
       "    </tr>\n",
       "  </tbody>\n",
       "</table>\n",
       "</div>"
      ],
      "text/plain": [
       "         date      time     size         filename\n",
       "0  2021-01-17  11:35:19  1527282   0001bzcCwH.png\n",
       "1  2021-01-17  11:35:19   550792  00049AFFY3.jpeg\n",
       "2  2021-01-17  11:35:19   429993  0004DsKCnI.jpeg\n",
       "3  2021-01-17  11:35:19   238120  0005i6v6Wv.jpeg\n",
       "4  2021-01-17  11:35:19    31940  0008cVDtNk.jpeg"
      ]
     },
     "execution_count": 4,
     "metadata": {},
     "output_type": "execute_result"
    }
   ],
   "source": [
    "df.head()"
   ]
  },
  {
   "cell_type": "code",
   "execution_count": 5,
   "metadata": {},
   "outputs": [
    {
     "data": {
      "text/plain": [
       "(1071966, 4)"
      ]
     },
     "execution_count": 5,
     "metadata": {},
     "output_type": "execute_result"
    }
   ],
   "source": [
    "df.shape"
   ]
  },
  {
   "cell_type": "code",
   "execution_count": 6,
   "metadata": {},
   "outputs": [
    {
     "data": {
      "text/plain": [
       "252.763587883"
      ]
     },
     "execution_count": 6,
     "metadata": {},
     "output_type": "execute_result"
    }
   ],
   "source": [
    "df['size'].sum()/1e+9 # GB"
   ]
  },
  {
   "cell_type": "code",
   "execution_count": 12,
   "metadata": {},
   "outputs": [],
   "source": [
    "files = df['filename'].tolist()"
   ]
  },
  {
   "cell_type": "code",
   "execution_count": 13,
   "metadata": {},
   "outputs": [
    {
     "data": {
      "text/plain": [
       "['0001bzcCwH.png', '00049AFFY3.jpeg', '0004DsKCnI.jpeg']"
      ]
     },
     "execution_count": 13,
     "metadata": {},
     "output_type": "execute_result"
    }
   ],
   "source": [
    "files[0:3]"
   ]
  },
  {
   "cell_type": "code",
   "execution_count": 14,
   "metadata": {},
   "outputs": [
    {
     "name": "stdout",
     "output_type": "stream",
     "text": [
      "0001bzcCwH.png\n",
      "https://s3.wasabisys.com/ddosecrets-parler-images/0001bzcCwH.png\n",
      "00049AFFY3.jpeg\n",
      "https://s3.wasabisys.com/ddosecrets-parler-images/00049AFFY3.jpeg\n",
      "0004DsKCnI.jpeg\n",
      "https://s3.wasabisys.com/ddosecrets-parler-images/0004DsKCnI.jpeg\n"
     ]
    }
   ],
   "source": [
    "# Testing ...\n",
    "\n",
    "\n",
    "for each in files[0:3]:\n",
    "    print(each)\n",
    "    url = base_url + each\n",
    "    print(url)\n",
    "    wget.download(url, output_dir)\n",
    "    "
   ]
  },
  {
   "cell_type": "code",
   "execution_count": 14,
   "metadata": {},
   "outputs": [],
   "source": [
    "# Using script to download all the images for 252 GB"
   ]
  },
  {
   "cell_type": "code",
   "execution_count": null,
   "metadata": {},
   "outputs": [],
   "source": []
  }
 ],
 "metadata": {
  "kernelspec": {
   "display_name": "Python 3.8.13 ('parler')",
   "language": "python",
   "name": "python3"
  },
  "language_info": {
   "codemirror_mode": {
    "name": "ipython",
    "version": 3
   },
   "file_extension": ".py",
   "mimetype": "text/x-python",
   "name": "python",
   "nbconvert_exporter": "python",
   "pygments_lexer": "ipython3",
   "version": "3.8.13"
  },
  "orig_nbformat": 4,
  "vscode": {
   "interpreter": {
    "hash": "1d2f71e1f252b0c8dd32cfce31c48cf5dbef2ae3117d260c1ac460809492f67e"
   }
  }
 },
 "nbformat": 4,
 "nbformat_minor": 2
}
